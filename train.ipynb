{
 "cells": [
  {
   "cell_type": "code",
   "execution_count": 1,
   "metadata": {},
   "outputs": [
    {
     "name": "stderr",
     "output_type": "stream",
     "text": [
      "Using TensorFlow backend.\n",
      "C:\\Users\\th_k9\\AppData\\Local\\Continuum\\anaconda3\\envs\\Kimtae\\lib\\site-packages\\keras_applications\\resnet50.py:265: UserWarning: The output shape of `ResNet50(include_top=False)` has been changed since Keras 2.2.0.\n",
      "  warnings.warn('The output shape of `ResNet50(include_top=False)` '\n"
     ]
    },
    {
     "name": "stdout",
     "output_type": "stream",
     "text": [
      "_________________________________________________________________\n",
      "Layer (type)                 Output Shape              Param #   \n",
      "=================================================================\n",
      "input_2 (InputLayer)         (None, 150, 150, 3)       0         \n",
      "_________________________________________________________________\n",
      "resnet50 (Model)             multiple                  23587712  \n",
      "_________________________________________________________________\n",
      "flatten_1 (Flatten)          (None, 51200)             0         \n",
      "_________________________________________________________________\n",
      "dense_1 (Dense)              (None, 1000)              51201000  \n",
      "_________________________________________________________________\n",
      "dropout_1 (Dropout)          (None, 1000)              0         \n",
      "_________________________________________________________________\n",
      "dense_2 (Dense)              (None, 1)                 1001      \n",
      "=================================================================\n",
      "Total params: 74,789,713\n",
      "Trainable params: 74,736,593\n",
      "Non-trainable params: 53,120\n",
      "_________________________________________________________________\n"
     ]
    }
   ],
   "source": [
    "from keras.applications.resnet50 import ResNet50\n",
    "from keras.models import Model\n",
    "from keras.layers import Input, Dense, Flatten\n",
    "from keras.layers.core import Dropout\n",
    "\n",
    "network = ResNet50(include_top=False)\n",
    "input = Input(shape=(150, 150, 3))\n",
    "x = network(input)\n",
    "x = Flatten()(x)\n",
    "x = Dense(1000, activation='relu')(x)\n",
    "x = Dropout(0.5)(x)\n",
    "predictions = Dense(1, activation='sigmoid')(x)\n",
    "\n",
    "resnet_model = Model(inputs=input, outputs=predictions)\n",
    "\n",
    "resnet_model.summary()"
   ]
  },
  {
   "cell_type": "code",
   "execution_count": 2,
   "metadata": {},
   "outputs": [
    {
     "data": {
      "text/plain": [
       "((15397, 150, 150, 3), (15397,), (10265, 150, 150, 3), (10265,))"
      ]
     },
     "execution_count": 2,
     "metadata": {},
     "output_type": "execute_result"
    }
   ],
   "source": [
    "import os \n",
    "import pickle\n",
    "\n",
    "with open(os.path.join('../', '../', '300_pickle', 'whole', 'whole_3_train.p4'), mode='rb') as f:\n",
    "    trData = pickle.load(f)\n",
    "with open(os.path.join('../', '../', '300_pickle', 'whole', 'whole_3_test.p4'), mode='rb') as f:\n",
    "    teData = pickle.load(f)\n",
    "    \n",
    "trimg, trlabel = trData['data'], trData['label']\n",
    "teimg, telabel = teData['data'], teData['label']\n",
    "\n",
    "trimg = trimg.astype('float32') / 255.0\n",
    "teimg = teimg.astype('float32') / 255.0\n",
    "\n",
    "trimg.shape, trlabel.shape, teimg.shape, telabel.shape"
   ]
  },
  {
   "cell_type": "code",
   "execution_count": 3,
   "metadata": {},
   "outputs": [],
   "source": [
    "import keras.backend as K\n",
    "\n",
    "def recall(y_target, y_pred):\n",
    "    y_target_yn = K.round(K.clip(y_target, 0, 1))\n",
    "    y_pred_yn = K.round(K.clip(y_pred, 0, 1)) \n",
    "\n",
    "    count_true_positive = K.sum(y_target_yn * y_pred_yn) \n",
    "\n",
    "    count_true_positive_false_negative = K.sum(y_target_yn)\n",
    "\n",
    "    recall = count_true_positive / (count_true_positive_false_negative + K.epsilon())\n",
    "\n",
    "    return recall\n",
    "\n",
    "\n",
    "def precision(y_target, y_pred):\n",
    "    y_pred_yn = K.round(K.clip(y_pred, 0, 1))\n",
    "    y_target_yn = K.round(K.clip(y_target, 0, 1))\n",
    "\n",
    "    count_true_positive = K.sum(y_target_yn * y_pred_yn) \n",
    "\n",
    "    count_true_positive_false_positive = K.sum(y_pred_yn)\n",
    "\n",
    "    precision = count_true_positive / (count_true_positive_false_positive + K.epsilon())\n",
    "\n",
    "    return precision"
   ]
  },
  {
   "cell_type": "code",
   "execution_count": 4,
   "metadata": {},
   "outputs": [
    {
     "name": "stdout",
     "output_type": "stream",
     "text": [
      "x_train : 10777, x_val : 4620\n",
      "Train on 10777 samples, validate on 4620 samples\n",
      "Epoch 1/15\n",
      "10777/10777 [==============================] - 77s 7ms/step - loss: 0.1639 - acc: 0.9573 - precision: 0.9503 - recall: 0.9480 - val_loss: 0.0353 - val_acc: 0.9872 - val_precision: 0.9966 - val_recall: 0.9703\n",
      "Epoch 2/15\n",
      "10777/10777 [==============================] - 58s 5ms/step - loss: 0.0218 - acc: 0.9942 - precision: 0.9920 - recall: 0.9933 - val_loss: 0.0309 - val_acc: 0.9929 - val_precision: 0.9853 - val_recall: 0.9970\n",
      "Epoch 3/15\n",
      "10777/10777 [==============================] - 58s 5ms/step - loss: 0.0203 - acc: 0.9950 - precision: 0.9929 - recall: 0.9948 - val_loss: 0.0584 - val_acc: 0.9820 - val_precision: 0.9972 - val_recall: 0.9551\n",
      "Epoch 4/15\n",
      "10777/10777 [==============================] - 58s 5ms/step - loss: 0.0243 - acc: 0.9930 - precision: 0.9902 - recall: 0.9924 - val_loss: 0.1410 - val_acc: 0.9558 - val_precision: 1.0000 - val_recall: 0.8870\n",
      "Epoch 5/15\n",
      "10777/10777 [==============================] - 58s 5ms/step - loss: 0.0114 - acc: 0.9966 - precision: 0.9949 - recall: 0.9964 - val_loss: 0.0303 - val_acc: 0.9916 - val_precision: 0.9802 - val_recall: 1.0000\n",
      "Epoch 6/15\n",
      "10777/10777 [==============================] - 58s 5ms/step - loss: 0.0056 - acc: 0.9980 - precision: 0.9973 - recall: 0.9976 - val_loss: 0.0234 - val_acc: 0.9946 - val_precision: 0.9890 - val_recall: 0.9973\n",
      "Epoch 7/15\n",
      "10777/10777 [==============================] - 58s 5ms/step - loss: 0.0206 - acc: 0.9949 - precision: 0.9929 - recall: 0.9940 - val_loss: 0.0129 - val_acc: 0.9950 - val_precision: 0.9900 - val_recall: 0.9980\n",
      "Epoch 8/15\n",
      "10777/10777 [==============================] - 58s 5ms/step - loss: 0.0025 - acc: 0.9993 - precision: 0.9989 - recall: 0.9992 - val_loss: 0.0033 - val_acc: 0.9991 - val_precision: 0.9978 - val_recall: 1.0000\n",
      "Epoch 9/15\n",
      "10777/10777 [==============================] - 58s 5ms/step - loss: 0.0023 - acc: 0.9992 - precision: 0.9984 - recall: 0.9995 - val_loss: 3.3554e-04 - val_acc: 1.0000 - val_precision: 1.0000 - val_recall: 1.0000\n",
      "Epoch 10/15\n",
      "10777/10777 [==============================] - 58s 5ms/step - loss: 0.0039 - acc: 0.9992 - precision: 0.9987 - recall: 0.9992 - val_loss: 0.0013 - val_acc: 0.9996 - val_precision: 0.9988 - val_recall: 1.0000\n",
      "Epoch 11/15\n",
      "10777/10777 [==============================] - 58s 5ms/step - loss: 0.0102 - acc: 0.9973 - precision: 0.9958 - recall: 0.9973 - val_loss: 0.1357 - val_acc: 0.9649 - val_precision: 1.0000 - val_recall: 0.9106\n",
      "Epoch 12/15\n",
      "10777/10777 [==============================] - 58s 5ms/step - loss: 0.0026 - acc: 0.9994 - precision: 0.9988 - recall: 0.9998 - val_loss: 0.0018 - val_acc: 0.9996 - val_precision: 0.9990 - val_recall: 1.0000\n",
      "Epoch 13/15\n",
      "10777/10777 [==============================] - 58s 5ms/step - loss: 0.0115 - acc: 0.9965 - precision: 0.9958 - recall: 0.9960 - val_loss: 0.3559 - val_acc: 0.9457 - val_precision: 0.8969 - val_recall: 0.9768\n",
      "Epoch 14/15\n",
      "10777/10777 [==============================] - 58s 5ms/step - loss: 0.0171 - acc: 0.9949 - precision: 0.9918 - recall: 0.9948 - val_loss: 0.0080 - val_acc: 0.9981 - val_precision: 0.9995 - val_recall: 0.9953\n",
      "Epoch 15/15\n",
      "10777/10777 [==============================] - 58s 5ms/step - loss: 0.0026 - acc: 0.9990 - precision: 0.9985 - recall: 0.9990 - val_loss: 0.0056 - val_acc: 0.9981 - val_precision: 0.9996 - val_recall: 0.9960\n",
      "\n",
      "10265/10265 [==============================] - 16s 2ms/step\n",
      "Test loss: 0.007141302534662746\n",
      "Test accuracy: 0.9976619580578235\n"
     ]
    }
   ],
   "source": [
    "from keras import optimizers\n",
    "optimizer = optimizers.Adam(lr=0.0001, decay=1e-5)\n",
    "resnet_model.compile(optimizer=optimizer, loss='binary_crossentropy', metrics=['accuracy', precision, recall])\n",
    "\n",
    "tr_img = trimg\n",
    "tr_label = trlabel\n",
    "te_img = teimg\n",
    "te_label = telabel\n",
    "\n",
    "data_num = len(tr_img)\n",
    "varid_num = int(data_num * 0.7)\n",
    "\n",
    "x_train = tr_img[:varid_num]\n",
    "x_val = tr_img[varid_num:]\n",
    "y_train = tr_label[:varid_num]\n",
    "y_val = tr_label[varid_num:]\n",
    "\n",
    "print('x_train : {}, x_val : {}'.format(len(x_train), len(x_val)))\n",
    "\n",
    "history_ = resnet_model.fit(x_train, y_train, shuffle=True, epochs=15, batch_size=50, validation_data=(x_val, y_val))\n",
    "\n",
    "from numpy import argmax\n",
    "import csv \n",
    "\n",
    "print('')\n",
    "scores = resnet_model.evaluate(te_img, te_label)\n",
    "print('Test loss:', scores[0])\n",
    "print('Test accuracy:', scores[1])\n",
    "\n",
    "resnet_model.save('../resnet50_patch_whole_3.h5')"
   ]
  },
  {
   "cell_type": "code",
   "execution_count": 6,
   "metadata": {},
   "outputs": [
    {
     "data": {
      "text/plain": [
       "0.24831647"
      ]
     },
     "execution_count": 6,
     "metadata": {},
     "output_type": "execute_result"
    },
    {
     "data": {
      "image/png": "[encoded data removed]",
      "text/plain": [
       "<Figure size 432x288 with 1 Axes>"
      ]
     },
     "metadata": {
      "needs_background": "light"
     },
     "output_type": "display_data"
    }
   ],
   "source": [
    "from sklearn.metrics import roc_curve, auc\n",
    "import numpy as np\n",
    "import matplotlib.pyplot as plt\n",
    "\n",
    "predict = resnet_model.predict(teimg)\n",
    "\n",
    "fpr, tpr, threshold = roc_curve(telabel, predict, pos_label=1)\n",
    "fnr = 1 - tpr\n",
    "eer_threshold = threshold[np.nanargmin(np.absolute((fnr - fpr)))]\n",
    "roc_auc = auc(fpr, fnr)\n",
    "#logging.info(\"EER threshold = {}\".format(eer_threshold))\n",
    "\n",
    "plt.figure()\n",
    "lw = 2\n",
    "plt.plot(fpr, fnr, color='darkorange', lw=lw, label='R')\n",
    "\n",
    "eer_threshold"
   ]
  },
  {
   "cell_type": "code",
   "execution_count": null,
   "metadata": {},
   "outputs": [],
   "source": []
  }
 ],
 "metadata": {
  "kernelspec": {
   "display_name": "Kimtae",
   "language": "python",
   "name": "kimtae"
  },
  "language_info": {
   "codemirror_mode": {
    "name": "ipython",
    "version": 3
   },
   "file_extension": ".py",
   "mimetype": "text/x-python",
   "name": "python",
   "nbconvert_exporter": "python",
   "pygments_lexer": "ipython3",
   "version": "3.5.6"
  }
 },
 "nbformat": 4,
 "nbformat_minor": 2
}
